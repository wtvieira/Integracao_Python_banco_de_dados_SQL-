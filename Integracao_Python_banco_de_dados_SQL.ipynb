{
  "nbformat": 4,
  "nbformat_minor": 0,
  "metadata": {
    "colab": {
      "provenance": []
    },
    "kernelspec": {
      "name": "python3",
      "display_name": "Python 3"
    },
    "language_info": {
      "name": "python"
    }
  },
  "cells": [
    {
      "cell_type": "code",
      "execution_count": null,
      "metadata": {
        "id": "iZBV9fbpLaib"
      },
      "outputs": [],
      "source": [
        "import pyodbc\n",
        "\n",
        "#Lendo o arquivo\n",
        "arquivo = open(\"arquivo.txt\")\n",
        "conteudo = arquivo.readlines()\n",
        "\n",
        "#CONEXAO COM O BANCO\n",
        "conexao = pyodbc.connect('Driver={SQL Server};'\n",
        "'Server=localhost;'\n",
        "'Database=db_biblioteca;'\n",
        "'Trusted_Connection=yes;')\n",
        "\n",
        "#CRIAÇÃO DO CURSOR PARA O SQL\n",
        "cursor = conexao.cursor()\n",
        "\n",
        "#INSERIR DADOS NA TABELA DO BANCO\n",
        "inserir_dados = f\"\"\"INSERT INTO tbl_arquivo (nm_coluna) VALUES ('{conteudo}')\"\"\"\n",
        "cursor.execute(inserir_dados)\n",
        "cursor.commit()\n",
        "\n",
        "#FECHANDO ARQUIVO\n",
        "arquivo.close()"
      ]
    }
  ]
}